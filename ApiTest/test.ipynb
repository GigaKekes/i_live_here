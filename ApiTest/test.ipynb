{
 "cells": [
  {
   "cell_type": "code",
   "execution_count": 38,
   "metadata": {},
   "outputs": [],
   "source": [
    "import json\n",
    "import requests\n",
    "from pprint3x import pprint"
   ]
  },
  {
   "cell_type": "code",
   "execution_count": 26,
   "metadata": {},
   "outputs": [],
   "source": [
    "input_class = \"Благоустройство, ЖКХ и уборка дорог\"\n",
    "building_name = \"Замшина улица, дом 70, литера А\"\n",
    "building_id = 58490\n",
    "user_question = \"У меня течет кран, что делать?\""
   ]
  },
  {
   "cell_type": "code",
   "execution_count": 34,
   "metadata": {},
   "outputs": [],
   "source": [
    "message = f\"\"\"\n",
    "Вопрос пользователя:\n",
    "{user_question}\n",
    "\n",
    "Учитывая все важные аспекты, сгенерируй ответ пользователю, основываясь на следующем контексте:\n",
    "\"\"\""
   ]
  },
  {
   "cell_type": "code",
   "execution_count": 18,
   "metadata": {},
   "outputs": [
    {
     "name": "stdout",
     "output_type": "stream",
     "text": [
      "{'category': 'Аварийно-диспетчерские службы',\n",
      " 'data': [{'add_phone': None,\n",
      "           'address': None,\n",
      "           'category': 'Аварийно-диспетчерские службы',\n",
      "           'name': 'Работа общественного транспорта',\n",
      "           'phones': ['+7(812)5765555']},\n",
      "          {'add_phone': None,\n",
      "           'address': None,\n",
      "           'category': 'Аварийно-диспетчерские службы',\n",
      "           'name': 'Дежурный помощник главы администрации',\n",
      "           'phones': ['+7(812)5769901']},\n",
      "          {'add_phone': None,\n",
      "           'address': None,\n",
      "           'category': 'Аварийно-диспетчерские службы',\n",
      "           'name': 'Информационный центр ГУП «ТЭК СПб»',\n",
      "           'phones': ['+7(812)6019393']},\n",
      "          {'add_phone': None,\n",
      "           'address': None,\n",
      "           'category': 'Аварийно-диспетчерские службы',\n",
      "           'name': 'Горячая линия ГРО «ПетербургГаз» (со стационарного '\n",
      "                   'телефона)',\n",
      "           'phones': ['04']},\n",
      "          {'add_phone': None,\n",
      "           'address': None,\n",
      "           'category': 'Аварийно-диспетчерские службы',\n",
      "           'name': 'Горячая линия ГРО «ПетербургГаз» (с мобильного телефона)',\n",
      "           'phones': ['104']},\n",
      "          {'add_phone': None,\n",
      "           'address': None,\n",
      "           'category': 'Аварийно-диспетчерские службы',\n",
      "           'name': 'Горячая линия ГУП «Водоканал Санкт-Петербурга»',\n",
      "           'phones': ['+7(812)3050909']},\n",
      "          {'add_phone': None,\n",
      "           'address': None,\n",
      "           'category': 'Аварийно-диспетчерские службы',\n",
      "           'name': 'Повреждение водопроводной уличной сети (холодная вода)',\n",
      "           'phones': ['+7(812)3050909']},\n",
      "          {'add_phone': None,\n",
      "           'address': None,\n",
      "           'category': 'Аварийно-диспетчерские службы',\n",
      "           'name': 'Центр по приёму обращений граждан по всем вопросам, '\n",
      "                   'связанным с качеством оказываемых услуг ЖКХ',\n",
      "           'phones': ['004']},\n",
      "          {'add_phone': None,\n",
      "           'address': None,\n",
      "           'category': 'Аварийно-диспетчерские службы',\n",
      "           'name': 'Повреждение водопроводной уличной сети (горячая вода)',\n",
      "           'phones': ['+7(812)3151313']}]}\n"
     ]
    }
   ],
   "source": [
    "response = requests.get(\"https://hack-it.yazzh.ru/districts-info/building-id/58490\", params={\"query\": \"Замшина улица, дом 70, литера А\"}).json() \n",
    "pprint(response[0])"
   ]
  },
  {
   "cell_type": "code",
   "execution_count": 35,
   "metadata": {},
   "outputs": [
    {
     "name": "stdout",
     "output_type": "stream",
     "text": [
      "{'data': [{'fias_id': None,\n",
      "           'full_address': 'г.Санкт-Петербург, Замшина улица, дом 70, литера А',\n",
      "           'id': 58490,\n",
      "           'latitude': 59.9842382,\n",
      "           'longitude': 30.4094279,\n",
      "           'type': None}],\n",
      " 'success': True}\n"
     ]
    }
   ],
   "source": [
    "if input_class == 'Благоустройство, ЖКХ и уборка дорог':\n",
    "    response = requests.get(\"https://geo.hack-it.yazzh.ru/api/v2/geo/buildings/search/\", params={\"query\": \"Замшина улица, дом 70, литера А\"}).json() \n",
    "    pprint(response)\n",
    "    response = requests.get(\"https://hack-it.yazzh.ru/districts-info/building-id/58490\", params={\"query\": \"Замшина улица, дом 70, литера А\"}).json()[0]\n",
    "    contacts = []\n",
    "    for item in response['data']:\n",
    "        if item['category'] == 'Аварийно-диспетчерские службы':\n",
    "            contacts.append({\n",
    "                'name': item['name'],\n",
    "                'phones': item['phones']\n",
    "            })\n",
    "    ans = \"\"\n",
    "    for contact in contacts:\n",
    "        message += f\"Название службы: {contact['name']} \\n\"\n",
    "        message += f\"Телефоны: {', '.join(contact['phones'])} \\n\"\n"
   ]
  },
  {
   "cell_type": "code",
   "execution_count": 36,
   "metadata": {},
   "outputs": [],
   "source": [
    "message += \"\"\"\n",
    "Ответ должен быть вежливым, подробным и профессиональным, с ясными рекомендациями или информацией.\n",
    "\n",
    "Пример структуры ответа:\n",
    "Здравствуйте!\n",
    "(тут подробно ответ на вопрос, избегая упоминания источников данных)\n",
    "\n",
    "Ты — AI помощник, будь внимателен и обеспечь полезный и качественный ответ. \"\"\""
   ]
  },
  {
   "cell_type": "code",
   "execution_count": 40,
   "metadata": {},
   "outputs": [
    {
     "name": "stdout",
     "output_type": "stream",
     "text": [
      "\n",
      "Вопрос пользователя:\n",
      "У меня течет кран, что делать?\n",
      "\n",
      "Учитывая все важные аспекты, сгенерируй ответ пользователю, основываясь на следующем контексте:\n",
      "Название службы: Работа общественного транспорта \n",
      "Телефоны: +7(812)5765555 \n",
      "Название службы: Дежурный помощник главы администрации \n",
      "Телефоны: +7(812)5769901 \n",
      "Название службы: Информационный центр ГУП «ТЭК СПб» \n",
      "Телефоны: +7(812)6019393 \n",
      "Название службы: Горячая линия ГРО «ПетербургГаз» (со стационарного телефона) \n",
      "Телефоны: 04 \n",
      "Название службы: Горячая линия ГРО «ПетербургГаз» (с мобильного телефона) \n",
      "Телефоны: 104 \n",
      "Название службы: Горячая линия ГУП «Водоканал Санкт-Петербурга» \n",
      "Телефоны: +7(812)3050909 \n",
      "Название службы: Повреждение водопроводной уличной сети (холодная вода) \n",
      "Телефоны: +7(812)3050909 \n",
      "Название службы: Центр по приёму обращений граждан по всем вопросам, связанным с качеством оказываемых услуг ЖКХ \n",
      "Телефоны: 004 \n",
      "Название службы: Повреждение водопроводной уличной сети (горячая вода) \n",
      "Телефоны: +7(812)3151313 \n",
      "\n",
      "Ответ должен быть вежливым, подробным и профессиональным, с ясными рекомендациями или информацией.\n",
      "\n",
      "Пример структуры ответа:\n",
      "Здравствуйте!\n",
      "(тут подробно ответ на вопрос, избегая упоминания источников данных)\n",
      "\n",
      "Ты — AI помощник, будь внимателен и обеспечь полезный и качественный ответ. \n"
     ]
    }
   ],
   "source": [
    "print(message)"
   ]
  },
  {
   "cell_type": "code",
   "execution_count": null,
   "metadata": {},
   "outputs": [],
   "source": []
  }
 ],
 "metadata": {
  "kernelspec": {
   "display_name": "Python 3",
   "language": "python",
   "name": "python3"
  },
  "language_info": {
   "codemirror_mode": {
    "name": "ipython",
    "version": 3
   },
   "file_extension": ".py",
   "mimetype": "text/x-python",
   "name": "python",
   "nbconvert_exporter": "python",
   "pygments_lexer": "ipython3",
   "version": "3.11.2"
  }
 },
 "nbformat": 4,
 "nbformat_minor": 2
}
